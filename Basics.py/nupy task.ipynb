{
 "cells": [
  {
   "cell_type": "code",
   "execution_count": 17,
   "id": "166f56db-1077-4d08-be4f-8a2b5b441fb2",
   "metadata": {},
   "outputs": [
    {
     "name": "stdout",
     "output_type": "stream",
     "text": [
      "[[3 5 7 9]\n",
      " [6 7 9 0]]\n",
      "8\n",
      "The Transpose of matrix A is [ 0  1  2  3  4  5  6  7  8  9 10 11 12 13 14 15 16 17]\n",
      "The summation of Aand B matrix is [[ 8 12 10 10]\n",
      " [12  7 10  3]]\n"
     ]
    }
   ],
   "source": [
    "import numpy as np\n",
    "#Numpy first task\n",
    "A=np.array([[3,5,7,9],\n",
    "  [6,7,9,0]])\n",
    "print (A)\n",
    "print(A.size)\n",
    "print('The Transpose of matrix A is',a.T  )\n",
    "B=np.array([[5,7,3,1],\n",
    "    [6,0,1,3]])\n",
    "print('The summation of Aand B matrix is',A+B)\n",
    "\n"
   ]
  },
  {
   "cell_type": "code",
   "execution_count": 18,
   "id": "a2eb2cb5-42ea-4093-add7-c8c4134b156f",
   "metadata": {},
   "outputs": [
    {
     "name": "stdout",
     "output_type": "stream",
     "text": [
      "[[ 0  1  2]\n",
      " [ 3  4  5]\n",
      " [ 6  7  8]\n",
      " [ 9 10 11]\n",
      " [12 13 14]\n",
      " [15 16 17]]\n",
      "[[20 21 22]\n",
      " [23 24 25]\n",
      " [26 27 28]\n",
      " [29 30 31]\n",
      " [32 33 34]\n",
      " [35 36 37]]\n",
      "The suummation is [[20 22 24]\n",
      " [26 28 30]\n",
      " [32 34 36]\n",
      " [38 40 42]\n",
      " [44 46 48]\n",
      " [50 52 54]]\n"
     ]
    }
   ],
   "source": [
    "import numpy as np\n",
    "a=np.arange(0,18)\n",
    "b=np.arange(20,38)\n",
    "c=a.reshape(6,3)\n",
    "d=b.reshape(6,3)\n",
    "print (c)\n",
    "print(d)\n",
    "print ('The suummation is',c+d)"
   ]
  },
  {
   "cell_type": "code",
   "execution_count": null,
   "id": "0bda4e2a-c278-4d15-acc7-257d26b7fbde",
   "metadata": {},
   "outputs": [],
   "source": []
  }
 ],
 "metadata": {
  "kernelspec": {
   "display_name": "Python 3 (ipykernel)",
   "language": "python",
   "name": "python3"
  },
  "language_info": {
   "codemirror_mode": {
    "name": "ipython",
    "version": 3
   },
   "file_extension": ".py",
   "mimetype": "text/x-python",
   "name": "python",
   "nbconvert_exporter": "python",
   "pygments_lexer": "ipython3",
   "version": "3.13.1"
  }
 },
 "nbformat": 4,
 "nbformat_minor": 5
}
